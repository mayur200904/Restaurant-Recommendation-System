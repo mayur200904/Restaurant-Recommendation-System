{
 "cells": [
  {
   "cell_type": "code",
   "execution_count": 21,
   "id": "f4ba6d9f-408a-42ac-b446-ff31919f96ef",
   "metadata": {},
   "outputs": [],
   "source": [
    "import pandas as pd\n",
    "from sklearn.feature_extraction.text import CountVectorizer\n",
    "from sklearn.metrics.pairwise import cosine_similarity"
   ]
  },
  {
   "cell_type": "code",
   "execution_count": 22,
   "id": "41341df1-e3c2-4250-b2db-b746de1853ce",
   "metadata": {},
   "outputs": [],
   "source": [
    "data=pd.read_csv(r\"C:\\Users\\vaibh\\Downloads\\Dataset .csv\")"
   ]
  },
  {
   "cell_type": "code",
   "execution_count": 23,
   "id": "352fb27a-9d52-47ea-942c-9908d85c7c35",
   "metadata": {},
   "outputs": [
    {
     "name": "stdout",
     "output_type": "stream",
     "text": [
      "<class 'pandas.core.frame.DataFrame'>\n",
      "RangeIndex: 9551 entries, 0 to 9550\n",
      "Data columns (total 21 columns):\n",
      " #   Column                Non-Null Count  Dtype  \n",
      "---  ------                --------------  -----  \n",
      " 0   Restaurant ID         9551 non-null   int64  \n",
      " 1   Restaurant Name       9551 non-null   object \n",
      " 2   Country Code          9551 non-null   int64  \n",
      " 3   City                  9551 non-null   object \n",
      " 4   Address               9551 non-null   object \n",
      " 5   Locality              9551 non-null   object \n",
      " 6   Locality Verbose      9551 non-null   object \n",
      " 7   Longitude             9551 non-null   float64\n",
      " 8   Latitude              9551 non-null   float64\n",
      " 9   Cuisines              9542 non-null   object \n",
      " 10  Average Cost for two  9551 non-null   int64  \n",
      " 11  Currency              9551 non-null   object \n",
      " 12  Has Table booking     9551 non-null   object \n",
      " 13  Has Online delivery   9551 non-null   object \n",
      " 14  Is delivering now     9551 non-null   object \n",
      " 15  Switch to order menu  9551 non-null   object \n",
      " 16  Price range           9551 non-null   int64  \n",
      " 17  Aggregate rating      9551 non-null   float64\n",
      " 18  Rating color          9551 non-null   object \n",
      " 19  Rating text           9551 non-null   object \n",
      " 20  Votes                 9551 non-null   int64  \n",
      "dtypes: float64(3), int64(5), object(13)\n",
      "memory usage: 1.5+ MB\n"
     ]
    }
   ],
   "source": [
    "data.info()"
   ]
  },
  {
   "cell_type": "code",
   "execution_count": 24,
   "id": "aeeebe2a-d9ff-4b81-9745-e3b7a982768f",
   "metadata": {},
   "outputs": [
    {
     "data": {
      "text/html": [
       "<div>\n",
       "<style scoped>\n",
       "    .dataframe tbody tr th:only-of-type {\n",
       "        vertical-align: middle;\n",
       "    }\n",
       "\n",
       "    .dataframe tbody tr th {\n",
       "        vertical-align: top;\n",
       "    }\n",
       "\n",
       "    .dataframe thead th {\n",
       "        text-align: right;\n",
       "    }\n",
       "</style>\n",
       "<table border=\"1\" class=\"dataframe\">\n",
       "  <thead>\n",
       "    <tr style=\"text-align: right;\">\n",
       "      <th></th>\n",
       "      <th>count</th>\n",
       "      <th>mean</th>\n",
       "      <th>std</th>\n",
       "      <th>min</th>\n",
       "      <th>25%</th>\n",
       "      <th>50%</th>\n",
       "      <th>75%</th>\n",
       "      <th>max</th>\n",
       "    </tr>\n",
       "  </thead>\n",
       "  <tbody>\n",
       "    <tr>\n",
       "      <th>Restaurant ID</th>\n",
       "      <td>9551.0</td>\n",
       "      <td>9.051128e+06</td>\n",
       "      <td>8.791521e+06</td>\n",
       "      <td>53.000000</td>\n",
       "      <td>301962.500000</td>\n",
       "      <td>6.004089e+06</td>\n",
       "      <td>1.835229e+07</td>\n",
       "      <td>1.850065e+07</td>\n",
       "    </tr>\n",
       "    <tr>\n",
       "      <th>Country Code</th>\n",
       "      <td>9551.0</td>\n",
       "      <td>1.836562e+01</td>\n",
       "      <td>5.675055e+01</td>\n",
       "      <td>1.000000</td>\n",
       "      <td>1.000000</td>\n",
       "      <td>1.000000e+00</td>\n",
       "      <td>1.000000e+00</td>\n",
       "      <td>2.160000e+02</td>\n",
       "    </tr>\n",
       "    <tr>\n",
       "      <th>Longitude</th>\n",
       "      <td>9551.0</td>\n",
       "      <td>6.412657e+01</td>\n",
       "      <td>4.146706e+01</td>\n",
       "      <td>-157.948486</td>\n",
       "      <td>77.081343</td>\n",
       "      <td>7.719196e+01</td>\n",
       "      <td>7.728201e+01</td>\n",
       "      <td>1.748321e+02</td>\n",
       "    </tr>\n",
       "    <tr>\n",
       "      <th>Latitude</th>\n",
       "      <td>9551.0</td>\n",
       "      <td>2.585438e+01</td>\n",
       "      <td>1.100794e+01</td>\n",
       "      <td>-41.330428</td>\n",
       "      <td>28.478713</td>\n",
       "      <td>2.857047e+01</td>\n",
       "      <td>2.864276e+01</td>\n",
       "      <td>5.597698e+01</td>\n",
       "    </tr>\n",
       "    <tr>\n",
       "      <th>Average Cost for two</th>\n",
       "      <td>9551.0</td>\n",
       "      <td>1.199211e+03</td>\n",
       "      <td>1.612118e+04</td>\n",
       "      <td>0.000000</td>\n",
       "      <td>250.000000</td>\n",
       "      <td>4.000000e+02</td>\n",
       "      <td>7.000000e+02</td>\n",
       "      <td>8.000000e+05</td>\n",
       "    </tr>\n",
       "    <tr>\n",
       "      <th>Price range</th>\n",
       "      <td>9551.0</td>\n",
       "      <td>1.804837e+00</td>\n",
       "      <td>9.056088e-01</td>\n",
       "      <td>1.000000</td>\n",
       "      <td>1.000000</td>\n",
       "      <td>2.000000e+00</td>\n",
       "      <td>2.000000e+00</td>\n",
       "      <td>4.000000e+00</td>\n",
       "    </tr>\n",
       "    <tr>\n",
       "      <th>Aggregate rating</th>\n",
       "      <td>9551.0</td>\n",
       "      <td>2.666370e+00</td>\n",
       "      <td>1.516378e+00</td>\n",
       "      <td>0.000000</td>\n",
       "      <td>2.500000</td>\n",
       "      <td>3.200000e+00</td>\n",
       "      <td>3.700000e+00</td>\n",
       "      <td>4.900000e+00</td>\n",
       "    </tr>\n",
       "    <tr>\n",
       "      <th>Votes</th>\n",
       "      <td>9551.0</td>\n",
       "      <td>1.569097e+02</td>\n",
       "      <td>4.301691e+02</td>\n",
       "      <td>0.000000</td>\n",
       "      <td>5.000000</td>\n",
       "      <td>3.100000e+01</td>\n",
       "      <td>1.310000e+02</td>\n",
       "      <td>1.093400e+04</td>\n",
       "    </tr>\n",
       "  </tbody>\n",
       "</table>\n",
       "</div>"
      ],
      "text/plain": [
       "                       count          mean           std         min  \\\n",
       "Restaurant ID         9551.0  9.051128e+06  8.791521e+06   53.000000   \n",
       "Country Code          9551.0  1.836562e+01  5.675055e+01    1.000000   \n",
       "Longitude             9551.0  6.412657e+01  4.146706e+01 -157.948486   \n",
       "Latitude              9551.0  2.585438e+01  1.100794e+01  -41.330428   \n",
       "Average Cost for two  9551.0  1.199211e+03  1.612118e+04    0.000000   \n",
       "Price range           9551.0  1.804837e+00  9.056088e-01    1.000000   \n",
       "Aggregate rating      9551.0  2.666370e+00  1.516378e+00    0.000000   \n",
       "Votes                 9551.0  1.569097e+02  4.301691e+02    0.000000   \n",
       "\n",
       "                                25%           50%           75%           max  \n",
       "Restaurant ID         301962.500000  6.004089e+06  1.835229e+07  1.850065e+07  \n",
       "Country Code               1.000000  1.000000e+00  1.000000e+00  2.160000e+02  \n",
       "Longitude                 77.081343  7.719196e+01  7.728201e+01  1.748321e+02  \n",
       "Latitude                  28.478713  2.857047e+01  2.864276e+01  5.597698e+01  \n",
       "Average Cost for two     250.000000  4.000000e+02  7.000000e+02  8.000000e+05  \n",
       "Price range                1.000000  2.000000e+00  2.000000e+00  4.000000e+00  \n",
       "Aggregate rating           2.500000  3.200000e+00  3.700000e+00  4.900000e+00  \n",
       "Votes                      5.000000  3.100000e+01  1.310000e+02  1.093400e+04  "
      ]
     },
     "execution_count": 24,
     "metadata": {},
     "output_type": "execute_result"
    }
   ],
   "source": [
    "data.describe().T"
   ]
  },
  {
   "cell_type": "code",
   "execution_count": 25,
   "id": "60485891-fd95-4015-b85a-ab38b0e03f69",
   "metadata": {},
   "outputs": [],
   "source": [
    "# Preprocessing\n",
    "data.dropna(subset=['Cuisines'], inplace=True)  # Drop rows with missing cuisines"
   ]
  },
  {
   "cell_type": "code",
   "execution_count": 26,
   "id": "0dada7f5-43c2-4726-a1c5-3ab3789ae792",
   "metadata": {},
   "outputs": [],
   "source": [
    "data['Cuisines'] = data['Cuisines'].str.lower()  # Normalize cuisines to lowercase"
   ]
  },
  {
   "cell_type": "code",
   "execution_count": 27,
   "id": "80b35b68-28db-451c-91d8-bfa2d1d692d9",
   "metadata": {},
   "outputs": [],
   "source": [
    "# Combine features for recommendation\n",
    "data['Features'] = data['Cuisines'] + ' ' + data['City'].str.lower()"
   ]
  },
  {
   "cell_type": "code",
   "execution_count": 28,
   "id": "d1d57826-8f32-4ee3-94f4-4f88b6adb3ea",
   "metadata": {},
   "outputs": [],
   "source": [
    "# Convert text data into feature vectors\n",
    "vectorizer = CountVectorizer()\n",
    "feature_matrix = vectorizer.fit_transform(data['Features'])\n"
   ]
  },
  {
   "cell_type": "code",
   "execution_count": 29,
   "id": "5ad7cc26-9e68-41cf-8827-4299d61214d2",
   "metadata": {},
   "outputs": [],
   "source": [
    "# Compute similarity between restaurants\n",
    "similarity_matrix = cosine_similarity(feature_matrix)"
   ]
  },
  {
   "cell_type": "code",
   "execution_count": 31,
   "id": "7c0bc808-07b6-4ca9-b7b9-a235d3082d48",
   "metadata": {},
   "outputs": [],
   "source": [
    "# Recommendation function\n",
    "def recommend_restaurants(preferred_cuisine, city, top_n=5):\n",
    "    preferred_features = preferred_cuisine.lower() + ' ' + city.lower()\n",
    "    preferred_vector = vectorizer.transform([preferred_features])\n",
    "    \n",
    "    # Compute similarity with all restaurants\n",
    "    similarities = cosine_similarity(preferred_vector, feature_matrix).flatten()\n",
    "    \n",
    "    # Get indices of top matching restaurants\n",
    "    top_indices = similarities.argsort()[-top_n:][::-1]\n",
    "    \n",
    "    if len(top_indices) == 0:\n",
    "        return \"No recommendations found.\"\n",
    "\n",
    "    # Fetch recommended restaurants\n",
    "    recommendations = data.iloc[top_indices][['Restaurant Name', 'Cuisines', 'City', 'Aggregate rating']]\n",
    "    return recommendations\n"
   ]
  },
  {
   "cell_type": "code",
   "execution_count": 40,
   "id": "30c8a4a3-9561-49d4-a230-652db8937b7d",
   "metadata": {},
   "outputs": [
    {
     "name": "stdout",
     "output_type": "stream",
     "text": [
      "Top Recommended Restaurants:\n",
      "                   Restaurant Name                    Cuisines  \\\n",
      "1                 Izakaya Kikufuji                    japanese   \n",
      "0                 Le Petit Souffle  french, japanese, desserts   \n",
      "4                      Sambo Kojin            japanese, korean   \n",
      "480   Fuji Bay Japanese Restaurant             japanese, sushi   \n",
      "9334                      wagamama             japanese, asian   \n",
      "\n",
      "                  City  Aggregate rating  \n",
      "1          Makati City               4.5  \n",
      "0          Makati City               4.8  \n",
      "4     Mandaluyong City               4.8  \n",
      "480         Sioux City               3.7  \n",
      "9334   Wellington City               3.7  \n"
     ]
    }
   ],
   "source": [
    "# Example usage\n",
    "user_cuisine = 'Japanese'\n",
    "user_city = 'Makati City'\n",
    "recommendations = recommend_restaurants(user_cuisine, user_city)\n",
    "\n",
    "\n",
    "print(\"Top Recommended Restaurants:\")\n",
    "print(recommendations)"
   ]
  },
  {
   "cell_type": "code",
   "execution_count": null,
   "id": "32b79be5-679f-4012-9a78-4fbb3a0d546f",
   "metadata": {},
   "outputs": [],
   "source": []
  }
 ],
 "metadata": {
  "kernelspec": {
   "display_name": "Python 3 (ipykernel)",
   "language": "python",
   "name": "python3"
  },
  "language_info": {
   "codemirror_mode": {
    "name": "ipython",
    "version": 3
   },
   "file_extension": ".py",
   "mimetype": "text/x-python",
   "name": "python",
   "nbconvert_exporter": "python",
   "pygments_lexer": "ipython3",
   "version": "3.11.10"
  }
 },
 "nbformat": 4,
 "nbformat_minor": 5
}
